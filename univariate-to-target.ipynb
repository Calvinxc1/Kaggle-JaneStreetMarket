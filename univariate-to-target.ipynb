{
 "cells": [
  {
   "cell_type": "code",
   "execution_count": 1,
   "metadata": {},
   "outputs": [],
   "source": [
    "import janestreet\n",
    "from pathlib import Path\n",
    "import pandas as pd\n",
    "import numpy as np\n",
    "import matplotlib.pyplot as plt\n",
    "import seaborn as sns; sns.set()\n",
    "import torch as pt\n",
    "from tqdm.notebook import tqdm, trange\n",
    "from scipy import stats\n",
    "import torch as pt"
   ]
  },
  {
   "cell_type": "code",
   "execution_count": 2,
   "metadata": {},
   "outputs": [],
   "source": [
    "import princo_ml as pml\n",
    "from princo_ml.controllers.Controller import Controller as Control\n",
    "from princo_ml.clusters import DataCluster as Data, LearnCluster as Learn\n",
    "from princo_ml.utils.learn_modules.learners import GradientLearner, NewtonLearner, MomentumLearner, SmoothLearner\n",
    "from princo_ml.utils.learn_modules.activators import LinearActivator, SigmoidActivator, TanhActivator, ReluActivator\n",
    "from princo_ml.utils.losses.CrossEntLoss import CrossEntLoss"
   ]
  },
  {
   "cell_type": "code",
   "execution_count": 3,
   "metadata": {},
   "outputs": [],
   "source": [
    "pt.set_default_tensor_type(pt.cuda.FloatTensor)\n",
    "#pt.set_default_tensor_type(pt.FloatTensor)"
   ]
  },
  {
   "cell_type": "code",
   "execution_count": 4,
   "metadata": {},
   "outputs": [],
   "source": [
    "def grad_calc(loss, coefs):\n",
    "    coef_list = pd.Series(coefs)\n",
    "    gradients = pd.Series(\n",
    "        pt.autograd.grad(loss, coef_list.values),\n",
    "        index = coef_list.index,\n",
    "    ).to_dict()\n",
    "    return gradients"
   ]
  },
  {
   "cell_type": "code",
   "execution_count": 5,
   "metadata": {},
   "outputs": [],
   "source": [
    "paths = {\n",
    "    'features': Path('./data/features.csv'),\n",
    "    'train': Path('./data/train.csv'),\n",
    "    'test': Path('./data/example_test.csv'),\n",
    "}"
   ]
  },
  {
   "cell_type": "code",
   "execution_count": 6,
   "metadata": {},
   "outputs": [],
   "source": [
    "raw_data = pd.read_csv(paths['train']).set_index('ts_id')\n",
    "raw_data.insert(\n",
    "    raw_data.columns.get_loc('resp')+1,\n",
    "    'resp_pos',\n",
    "    raw_data['resp'] > 0,\n",
    ")"
   ]
  },
  {
   "cell_type": "code",
   "execution_count": 7,
   "metadata": {},
   "outputs": [],
   "source": [
    "train_ratio = 0.6\n",
    "train_idx = np.concatenate([\n",
    "    np.random.choice(data.index, size=int(len(data) * train_ratio), replace=False)\n",
    "    for _, data in raw_data.groupby('date')\n",
    "])\n",
    "valid_idx = raw_data.index[~raw_data.index.isin(train_idx)].values"
   ]
  },
  {
   "cell_type": "code",
   "execution_count": 8,
   "metadata": {},
   "outputs": [],
   "source": [
    "raw_features = [col for col in raw_data.columns if col.startswith('feature')]\n",
    "\n",
    "dataset = raw_data.loc[raw_data['date'] == 0].copy()\n",
    "dataset = dataset.join(pd.isnull(dataset[raw_features]), rsuffix='_null').fillna(0)\n",
    "dataset = dataset.join(\n",
    "    dataset[raw_features] == dataset[raw_features].apply(lambda x: x.min()),\n",
    "    rsuffix='_min',\n",
    ").astype(float)\n",
    "\n",
    "feature_cols = [col for col in dataset.columns if col.startswith('feature')]\n",
    "target_cols = ['resp_pos']"
   ]
  },
  {
   "cell_type": "code",
   "execution_count": 9,
   "metadata": {},
   "outputs": [],
   "source": [
    "dataset_next = raw_data.loc[raw_data['date'] == 1].copy()\n",
    "dataset_next = dataset_next.join(pd.isnull(dataset_next[raw_features]), rsuffix='_null').fillna(0)\n",
    "dataset_next = dataset_next.join(\n",
    "    dataset_next[raw_features] == dataset_next[raw_features].apply(lambda x: x.min()),\n",
    "    rsuffix='_min',\n",
    ").astype(float)"
   ]
  },
  {
   "cell_type": "code",
   "execution_count": 10,
   "metadata": {},
   "outputs": [
    {
     "data": {
      "application/vnd.jupyter.widget-view+json": {
       "model_id": "7ab05c8f98ed4551a2dba966fb29f86b",
       "version_major": 2,
       "version_minor": 0
      },
      "text/plain": [
       "HBox(children=(HTML(value=''), FloatProgress(value=0.0, max=1000.0), HTML(value='')))"
      ]
     },
     "metadata": {},
     "output_type": "display_data"
    },
    {
     "name": "stdout",
     "output_type": "stream",
     "text": [
      "\n"
     ]
    }
   ],
   "source": [
    "learner = SmoothLearner\n",
    "learn_rate_kwargs = {'seed_learn': 1e-0}\n",
    "\n",
    "loss = CrossEntLoss\n",
    "loss_kwargs = {'mean': True}\n",
    "\n",
    "batcher_kwargs = {'proportion': 1.0}\n",
    "\n",
    "control = Control('regression_controller')\n",
    "\n",
    "control.add_cluster(\n",
    "    Data(\n",
    "        'data_cluster',\n",
    "        dataset[feature_cols + target_cols],\n",
    "        batcher_kwargs=batcher_kwargs,\n",
    "        loss=loss, loss_kwargs=loss_kwargs,\n",
    "    )\n",
    ")\n",
    "control.link_add(Learn(\n",
    "    'learn_cluster_1',\n",
    "    module_kwargs=dict(\n",
    "        nodes=32,\n",
    "        activator=TanhActivator,\n",
    "        learner=learner,\n",
    "        learn_rate_kwargs=learn_rate_kwargs,\n",
    "    )),\n",
    "    'data_cluster', 'input', data_cols=feature_cols,\n",
    ")\n",
    "control.link_add(\n",
    "    Learn(\n",
    "        'learn_cluster_out',\n",
    "        module_kwargs=dict(\n",
    "            nodes=len(target_cols),\n",
    "            activator=SigmoidActivator,\n",
    "            learner=learner,\n",
    "            learn_rate_kwargs=learn_rate_kwargs,\n",
    "        ),\n",
    "    ),\n",
    "    #'data_cluster', 'input', data_cols=feature_cols,\n",
    "    'learn_cluster_1', 'input',\n",
    ")\n",
    "\n",
    "control.link_clusters('learn_cluster_out', 'data_cluster', data_cols=target_cols)\n",
    "\n",
    "control.enable_network()\n",
    "control.train_model(1000)"
   ]
  },
  {
   "cell_type": "code",
   "execution_count": 11,
   "metadata": {},
   "outputs": [
    {
     "data": {
      "image/png": "[encoded data removed]",
      "text/plain": [
       "<Figure size 1152x720 with 1 Axes>"
      ]
     },
     "metadata": {},
     "output_type": "display_data"
    }
   ],
   "source": [
    "control.plot_losses()"
   ]
  },
  {
   "cell_type": "code",
   "execution_count": 12,
   "metadata": {},
   "outputs": [],
   "source": [
    "predict = control.predict({'data_cluster': dataset_next[feature_cols + target_cols]})"
   ]
  },
  {
   "cell_type": "code",
   "execution_count": 13,
   "metadata": {},
   "outputs": [],
   "source": [
    "final_data = pd.DataFrame(np.concatenate([\n",
    "    predict['outputs']['learn_cluster_out'],\n",
    "    (dataset_next[target_cols] == 1).values,\n",
    "], axis=1), columns=['predict', 'actual'], index=dataset_next.index)"
   ]
  },
  {
   "cell_type": "code",
   "execution_count": 14,
   "metadata": {},
   "outputs": [
    {
     "data": {
      "text/plain": [
       "<AxesSubplot:xlabel='predict', ylabel='Density'>"
      ]
     },
     "execution_count": 14,
     "metadata": {},
     "output_type": "execute_result"
    },
    {
     "data": {
      "image/png": "[encoded data removed]",
      "text/plain": [
       "<Figure size 432x288 with 1 Axes>"
      ]
     },
     "metadata": {},
     "output_type": "display_data"
    }
   ],
   "source": [
    "sns.histplot(data=final_data, x='predict', hue='actual', stat='density')"
   ]
  },
  {
   "cell_type": "code",
   "execution_count": 15,
   "metadata": {},
   "outputs": [
    {
     "data": {
      "application/vnd.jupyter.widget-view+json": {
       "model_id": "b18776dd768e46e88b6181fb17fd4126",
       "version_major": 2,
       "version_minor": 0
      },
      "text/plain": [
       "HBox(children=(HTML(value=''), FloatProgress(value=0.0, max=10000.0), HTML(value='')))"
      ]
     },
     "metadata": {},
     "output_type": "display_data"
    },
    {
     "name": "stdout",
     "output_type": "stream",
     "text": [
      "\n"
     ]
    }
   ],
   "source": [
    "samples = [\n",
    "    dataset_next.loc[\n",
    "        final_data.index[final_data['predict'] > np.random.uniform(size=len(final_data))],\n",
    "        ['weight', 'resp'],\n",
    "    ].prod(axis=1).sum()\n",
    "    for _ in trange(10000)\n",
    "]"
   ]
  },
  {
   "cell_type": "code",
   "execution_count": 16,
   "metadata": {},
   "outputs": [
    {
     "data": {
      "text/plain": [
       "<AxesSubplot:ylabel='Count'>"
      ]
     },
     "execution_count": 16,
     "metadata": {},
     "output_type": "execute_result"
    },
    {
     "data": {
      "image/png": "[encoded data removed]",
      "text/plain": [
       "<Figure size 432x288 with 1 Axes>"
      ]
     },
     "metadata": {},
     "output_type": "display_data"
    }
   ],
   "source": [
    "sns.histplot(samples)"
   ]
  },
  {
   "cell_type": "code",
   "execution_count": null,
   "metadata": {},
   "outputs": [],
   "source": []
  }
 ],
 "metadata": {
  "kernelspec": {
   "display_name": "Python [conda env:dev]",
   "language": "python",
   "name": "conda-env-dev-py"
  },
  "language_info": {
   "codemirror_mode": {
    "name": "ipython",
    "version": 3
   },
   "file_extension": ".py",
   "mimetype": "text/x-python",
   "name": "python",
   "nbconvert_exporter": "python",
   "pygments_lexer": "ipython3",
   "version": "3.7.9"
  }
 },
 "nbformat": 4,
 "nbformat_minor": 4
}
